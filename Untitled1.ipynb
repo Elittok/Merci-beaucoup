{
 "cells": [
  {
   "cell_type": "code",
   "execution_count": 1,
   "id": "53e5f508",
   "metadata": {
    "scrolled": true
   },
   "outputs": [
    {
     "name": "stdout",
     "output_type": "stream",
     "text": [
      "Введите 1 число 4\n",
      "Введите 2 число 8\n",
      "a + b = 12.0\n",
      "a - b = -4.0\n",
      "a * b = 32.0\n",
      "a ** b = 65536.0\n",
      "a / b = 0.5\n"
     ]
    }
   ],
   "source": [
    "a=float(input(\"Введите 1 число \"))\n",
    "b=float(input(\"Введите 2 число \"))\n",
    "c=a+b\n",
    "d=a-b\n",
    "e=a*b\n",
    "f=a**b\n",
    "g=a/b\n",
    "print(f'a + b = {c}')\n",
    "print(f'a - b = {d}')\n",
    "print(f'a * b = {e}')\n",
    "print(f'a ** b = {f}')\n",
    "print(f'a / b = {g}')"
   ]
  },
  {
   "cell_type": "code",
   "execution_count": 79,
   "id": "44d84e32",
   "metadata": {
    "scrolled": true
   },
   "outputs": [
    {
     "name": "stdout",
     "output_type": "stream",
     "text": [
      "928139243127890374291032473291024732917043324907438347412378904793204713372137381327132128738122381243814381481637634\n"
     ]
    }
   ],
   "source": [
    "a=928139243127890374291032473291024732917043324907438347412378904793204713372137381327132128738122381243814381481637634\n",
    "print(a)"
   ]
  }
 ],
 "metadata": {
  "kernelspec": {
   "display_name": "Python 3 (ipykernel)",
   "language": "python",
   "name": "python3"
  },
  "language_info": {
   "codemirror_mode": {
    "name": "ipython",
    "version": 3
   },
   "file_extension": ".py",
   "mimetype": "text/x-python",
   "name": "python",
   "nbconvert_exporter": "python",
   "pygments_lexer": "ipython3",
   "version": "3.9.13"
  }
 },
 "nbformat": 4,
 "nbformat_minor": 5
}
